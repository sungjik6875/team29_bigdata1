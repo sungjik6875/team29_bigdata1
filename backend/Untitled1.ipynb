{
 "cells": [
  {
   "cell_type": "code",
   "execution_count": 1,
   "metadata": {},
   "outputs": [
    {
     "data": {
      "text/plain": [
       "<User: user100>"
      ]
     },
     "execution_count": 1,
     "metadata": {},
     "output_type": "execute_result"
    }
   ],
   "source": [
    "user = User.objects.get(pk=101)\n",
    "user"
   ]
  },
  {
   "cell_type": "code",
   "execution_count": 2,
   "metadata": {},
   "outputs": [
    {
     "data": {
      "text/plain": [
       "<Rating: user100 / Mission: Impossible (1996) / 5>"
      ]
     },
     "execution_count": 2,
     "metadata": {},
     "output_type": "execute_result"
    }
   ],
   "source": [
    "rating = user.rating_set.first()\n",
    "rating"
   ]
  },
  {
   "cell_type": "code",
   "execution_count": 3,
   "metadata": {},
   "outputs": [],
   "source": [
    "ratings = user.rating_set.all()"
   ]
  },
  {
   "cell_type": "code",
   "execution_count": 4,
   "metadata": {},
   "outputs": [
    {
     "data": {
      "text/plain": [
       "<QuerySet [<Rating: user100 / Mission: Impossible (1996) / 5>, <Rating: user100 / Alienï¿½ (1992) / 3>, <Rating: user100 / Phantom of the Opera, The (1943) / 5>, <Rating: user100 / X-Men (2000) / 5>, <Rating: user100 / Live and Let Die (1973) / 5>, <Rating: user100 / Terminator 2: Judgment Day (1991) / 5>, <Rating: user100 / Get Carter (2000) / 4>, <Rating: user100 / Meet the Parents (2000) / 5>, <Rating: user100 / Star Wars: Episode V - The Empire Strikes Back (1980) / 5>, <Rating: user100 / Twister (1996) / 5>, <Rating: user100 / Raiders of the Lost Ark (1981) / 5>, <Rating: user100 / Highlander (1986) / 5>, <Rating: user100 / Star Trek: First Contact (1996) / 5>, <Rating: user100 / Ben-Hur (1959) / 5>, <Rating: user100 / Rocketeer, The (1991) / 5>, <Rating: user100 / Dante's Peak (1997) / 5>, <Rating: user100 / Star Trek: The Motion Picture (1979) / 5>, <Rating: user100 / Star Trek VI: The Undiscovered Country (1991) / 5>, <Rating: user100 / Star Trek V: The Final Frontier (1989) / 5>, <Rating: user100 / Star Trek: The Wrath of Khan (1982) / 4>, '...(remaining elements truncated)...']>"
      ]
     },
     "execution_count": 4,
     "metadata": {},
     "output_type": "execute_result"
    }
   ],
   "source": [
    "ratings"
   ]
  },
  {
   "cell_type": "code",
   "execution_count": null,
   "metadata": {},
   "outputs": [],
   "source": []
  }
 ],
 "metadata": {
  "kernelspec": {
   "display_name": "Django Shell-Plus",
   "language": "python",
   "name": "django_extensions"
  },
  "language_info": {
   "codemirror_mode": {
    "name": "ipython",
    "version": 3
   },
   "file_extension": ".py",
   "mimetype": "text/x-python",
   "name": "python",
   "nbconvert_exporter": "python",
   "pygments_lexer": "ipython3",
   "version": "3.5.3"
  }
 },
 "nbformat": 4,
 "nbformat_minor": 2
}
